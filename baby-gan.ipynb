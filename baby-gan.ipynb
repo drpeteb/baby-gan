{
 "cells": [
  {
   "cell_type": "markdown",
   "metadata": {},
   "source": [
    "Just fiddling with a simple GAN."
   ]
  },
  {
   "cell_type": "code",
   "execution_count": 1,
   "metadata": {},
   "outputs": [
    {
     "name": "stderr",
     "output_type": "stream",
     "text": [
      "Using TensorFlow backend.\n"
     ]
    }
   ],
   "source": [
    "# thingies we want\n",
    "import numpy as np\n",
    "import scipy.stats as stats\n",
    "import scipy.linalg as la\n",
    "import tensorflow as tf\n",
    "from keras.models import Sequential\n",
    "from keras.layers import Dense\n",
    "from keras.optimizers import SGD\n",
    "import matplotlib.pyplot as plt\n",
    "\n",
    "# pretties\n",
    "%matplotlib inline\n",
    "plt.style.use('ggplot')"
   ]
  },
  {
   "cell_type": "code",
   "execution_count": 2,
   "metadata": {},
   "outputs": [],
   "source": [
    "def generate_real_data(n, d=2):\n",
    "    \"\"\"\n",
    "    Sample some data from an awkward distribution\n",
    "    \"\"\"\n",
    "    \n",
    "    # Sample a point on the (d-1)-sphere\n",
    "    u = stats.multivariate_normal.rvs(mean=np.zeros(d), cov=np.identity(d), size=n)\n",
    "    u /= la.norm(u)\n",
    "    \n",
    "    # Restrict it to one quadrant\n",
    "    u *= np.sign(u)\n",
    "    \n",
    "    # Sample some unrelated magnitude\n",
    "    e = stats.expon.rvs(size=n)\n",
    "\n",
    "    return u * e[:, np.newaxis]"
   ]
  },
  {
   "cell_type": "code",
   "execution_count": 3,
   "metadata": {},
   "outputs": [],
   "source": [
    "def plot_data(data):\n",
    "    \"\"\"\n",
    "    Plot the (first two dimensions of the) data\n",
    "    \"\"\"\n",
    "    \n",
    "    fig = plt.figure(figsize=(15,4))\n",
    "    \n",
    "    ax1 = fig.add_subplot(1, 3, 1)\n",
    "    ax1.plot(data[:, 0], data[:, 1], '.')\n",
    "    ax1.set_xlim([-0.05, 0.25])\n",
    "    ax1.set_ylim([-0.05, 0.25])\n",
    "    \n",
    "    ax2 = fig.add_subplot(1, 3, 2)\n",
    "    ax2.hist(la.norm(data, axis=1), bins=30)\n",
    "    ax2.set_xlim([0, 0.4])\n",
    "    \n",
    "    ax3 = fig.add_subplot(1, 3, 3)\n",
    "    ax3.hist(np.arctan2(data[:, 0], data[:, 1]), bins=30)\n",
    "    ax3.set_xlim([-np.pi, np.pi])\n",
    "\n",
    "    return fig"
   ]
  },
  {
   "cell_type": "code",
   "execution_count": 4,
   "metadata": {},
   "outputs": [],
   "source": [
    "# Data constants\n",
    "d = 2\n",
    "n = 1000"
   ]
  },
  {
   "cell_type": "code",
   "execution_count": 5,
   "metadata": {},
   "outputs": [
    {
     "data": {
      "image/png": "[encoded data removed]",
      "text/plain": [
       "<matplotlib.figure.Figure at 0x7fe63032bfd0>"
      ]
     },
     "metadata": {},
     "output_type": "display_data"
    }
   ],
   "source": [
    "plot_data(generate_real_data(n, d=d))\n",
    "plt.show()"
   ]
  },
  {
   "cell_type": "code",
   "execution_count": 6,
   "metadata": {},
   "outputs": [],
   "source": [
    "def switch_trainable(network, trainable):\n",
    "    network.trainable = trainable\n",
    "    for layer in network.layers:\n",
    "       layer.trainable = trainable"
   ]
  },
  {
   "cell_type": "code",
   "execution_count": 7,
   "metadata": {},
   "outputs": [],
   "source": [
    "noise_gen = stats.multivariate_normal(mean=np.zeros(d), cov=np.identity(d))"
   ]
  },
  {
   "cell_type": "code",
   "execution_count": 8,
   "metadata": {},
   "outputs": [],
   "source": [
    "def build_generator(d=2):\n",
    "    model = Sequential()\n",
    "    model.add(Dense(units=32, activation='relu', input_dim=d))\n",
    "    model.add(Dense(units=32, activation='relu'))\n",
    "    model.add(Dense(units=32, activation='relu'))\n",
    "    model.add(Dense(units=d, activation='linear'))\n",
    "    return model\n",
    "\n",
    "def build_discriminator(d=2):\n",
    "    model = Sequential()\n",
    "    model.add(Dense(units=32, activation='relu', input_dim=d))\n",
    "    model.add(Dense(units=32, activation='relu'))\n",
    "    model.add(Dense(units=32, activation='relu'))\n",
    "    model.add(Dense(units=1, activation='sigmoid'))\n",
    "    return model"
   ]
  },
  {
   "cell_type": "code",
   "execution_count": 9,
   "metadata": {},
   "outputs": [],
   "source": [
    "generator = build_generator(d=d)\n",
    "\n",
    "discriminator = build_discriminator(d=d)\n",
    "discriminator.compile(\n",
    "    loss='binary_crossentropy',\n",
    "    optimizer='sgd',\n",
    "    metrics=['accuracy'])\n",
    "\n",
    "adversarial = Sequential()\n",
    "adversarial.add(generator)\n",
    "adversarial.add(discriminator)\n",
    "adversarial.compile(\n",
    "    loss='binary_crossentropy',\n",
    "    optimizer='sgd',\n",
    "    metrics=['accuracy'])"
   ]
  },
  {
   "cell_type": "code",
   "execution_count": 10,
   "metadata": {},
   "outputs": [
    {
     "name": "stdout",
     "output_type": "stream",
     "text": [
      "Epoch 1/10\n",
      "2000/2000 [==============================] - 0s 168us/step - loss: 0.6826 - acc: 0.7445\n",
      "Epoch 2/10\n",
      "2000/2000 [==============================] - 0s 70us/step - loss: 0.6377 - acc: 0.8840\n",
      "Epoch 3/10\n",
      "2000/2000 [==============================] - 0s 63us/step - loss: 0.5992 - acc: 0.9220\n",
      "Epoch 4/10\n",
      "2000/2000 [==============================] - 0s 50us/step - loss: 0.5597 - acc: 0.9425\n",
      "Epoch 5/10\n",
      "2000/2000 [==============================] - 0s 45us/step - loss: 0.5171 - acc: 0.9515\n",
      "Epoch 6/10\n",
      "2000/2000 [==============================] - 0s 46us/step - loss: 0.4709 - acc: 0.9520\n",
      "Epoch 7/10\n",
      "2000/2000 [==============================] - 0s 44us/step - loss: 0.4224 - acc: 0.9545\n",
      "Epoch 8/10\n",
      "2000/2000 [==============================] - 0s 48us/step - loss: 0.3740 - acc: 0.9550\n",
      "Epoch 9/10\n",
      "2000/2000 [==============================] - 0s 72us/step - loss: 0.3287 - acc: 0.9550\n",
      "Epoch 10/10\n",
      "2000/2000 [==============================] - 0s 67us/step - loss: 0.2884 - acc: 0.9580\n"
     ]
    },
    {
     "data": {
      "text/plain": [
       "<keras.callbacks.History at 0x7fe630295cf8>"
      ]
     },
     "execution_count": 10,
     "metadata": {},
     "output_type": "execute_result"
    }
   ],
   "source": [
    "# Warm up the discriminator\n",
    "noise = noise_gen.rvs(size=n)\n",
    "x_batch = np.concatenate((generate_real_data(n, d=d), noise), axis=0)\n",
    "y_batch = np.concatenate((np.ones(n), np.zeros(n)), axis=0)\n",
    "discriminator.fit(x_batch, y_batch, epochs=10)"
   ]
  },
  {
   "cell_type": "code",
   "execution_count": 11,
   "metadata": {},
   "outputs": [
    {
     "name": "stdout",
     "output_type": "stream",
     "text": [
      "Iteration 0\n"
     ]
    },
    {
     "name": "stderr",
     "output_type": "stream",
     "text": [
      "/usr/local/lib/python3.5/dist-packages/keras/engine/training.py:973: UserWarning: Discrepancy between trainable weights and collected trainable weights, did you set `model.trainable` without calling `model.compile` after ?\n",
      "  'Discrepancy between trainable weights and collected trainable'\n"
     ]
    },
    {
     "name": "stdout",
     "output_type": "stream",
     "text": [
      "Iteration 1000\n",
      "Iteration 2000\n",
      "Iteration 3000\n",
      "Iteration 4000\n",
      "Iteration 5000\n",
      "Iteration 6000\n",
      "Iteration 7000\n",
      "Iteration 8000\n",
      "Iteration 9000\n"
     ]
    },
    {
     "data": {
      "image/png": "[encoded data removed]",
      "text/plain": [
       "<matplotlib.figure.Figure at 0x7fe628946748>"
      ]
     },
     "metadata": {},
     "output_type": "display_data"
    }
   ],
   "source": [
    "# Train\n",
    "num_it = 10000\n",
    "\n",
    "for it in range(num_it):\n",
    "    \n",
    "    if ((it + 1) % 1000) == 0:\n",
    "        print(\"Iteration \" + str(it))\n",
    "    \n",
    "    # Sample from generator\n",
    "    fakes = generator.predict(noise_gen.rvs(size=n))\n",
    "    \n",
    "    # Update discriminator\n",
    "    x_batch = np.concatenate((generate_real_data(n, d=d), fakes), axis=0)\n",
    "    y_batch = np.concatenate((np.ones(n), np.zeros(n)), axis=0)\n",
    "    discriminator.train_on_batch(x_batch, y_batch)\n",
    "    \n",
    "    # Update generator\n",
    "    switch_trainable(discriminator, False)\n",
    "    adversarial.train_on_batch(noise_gen.rvs(size=n), np.ones(n))\n",
    "    switch_trainable(discriminator, True)\n",
    "    \n",
    "fake_data = generator.predict(noise_gen.rvs(size=n))\n",
    "\n",
    "plot_data(fake_data)\n",
    "plt.show()"
   ]
  }
 ],
 "metadata": {
  "kernelspec": {
   "display_name": "Python 3",
   "language": "python",
   "name": "python3"
  },
  "language_info": {
   "codemirror_mode": {
    "name": "ipython",
    "version": 3
   },
   "file_extension": ".py",
   "mimetype": "text/x-python",
   "name": "python",
   "nbconvert_exporter": "python",
   "pygments_lexer": "ipython3",
   "version": "3.5.2"
  }
 },
 "nbformat": 4,
 "nbformat_minor": 2
}
